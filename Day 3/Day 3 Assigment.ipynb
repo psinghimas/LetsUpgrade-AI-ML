{
 "cells": [
  {
   "cell_type": "markdown",
   "metadata": {},
   "source": [
    "## Question 1 : Write a program to subtract two complex numbers in Python.\n"
   ]
  },
  {
   "cell_type": "code",
   "execution_count": 1,
   "metadata": {},
   "outputs": [
    {
     "name": "stdout",
     "output_type": "stream",
     "text": [
      "<class 'complex'>\n",
      "(2+4j)\n",
      "<class 'complex'>\n",
      "(1+2j)\n",
      "Subtraction = (1+2j)\n"
     ]
    }
   ],
   "source": [
    "a = 2 + 4j\n",
    "print(type(a))\n",
    "print(a)\n",
    "\n",
    "b = 1 + 2j\n",
    "print(type(b))\n",
    "print(b)\n",
    "\n",
    "print('Subtraction =', a - b)"
   ]
  },
  {
   "cell_type": "markdown",
   "metadata": {},
   "source": [
    "## Question 2 : Write a program to find the fourth root of a number."
   ]
  },
  {
   "cell_type": "code",
   "execution_count": 3,
   "metadata": {},
   "outputs": [
    {
     "name": "stdout",
     "output_type": "stream",
     "text": [
      "Fourth root of  9  is  1.7320508075688772\n"
     ]
    }
   ],
   "source": [
    "import math\n",
    "\n",
    "a=9\n",
    "b=math.sqrt(a)\n",
    "c=math.sqrt(b)\n",
    "\n",
    "print (\"Fourth root of \",a,\" is \",c)"
   ]
  },
  {
   "cell_type": "markdown",
   "metadata": {},
   "source": [
    "## Question 3: Write a program to swap two numbers in Python with the help of a temporary variable."
   ]
  },
  {
   "cell_type": "code",
   "execution_count": 6,
   "metadata": {},
   "outputs": [
    {
     "name": "stdout",
     "output_type": "stream",
     "text": [
      "a is =  1  and b is =  2\n",
      "After swap using temp variable c, a is =  2  and b is =  1\n"
     ]
    }
   ],
   "source": [
    "a=1\n",
    "b=2\n",
    "\n",
    "print (\"a is = \",a,\" and b is = \",b)\n",
    "\n",
    "c=a\n",
    "\n",
    "a=b\n",
    "b=c\n",
    "print (\"After swap using temp variable c, a is = \",a,\" and b is = \",b)"
   ]
  },
  {
   "cell_type": "markdown",
   "metadata": {},
   "source": [
    "## Question 4: Write a program to swap two numbers in Python without using a temporary variable."
   ]
  },
  {
   "cell_type": "code",
   "execution_count": 7,
   "metadata": {},
   "outputs": [
    {
     "name": "stdout",
     "output_type": "stream",
     "text": [
      "a is =  1  and b is =  2\n",
      "After swap without variable c, a is =  2  and b is =  1\n"
     ]
    }
   ],
   "source": [
    "a=1\n",
    "b=2\n",
    "\n",
    "print (\"a is = \",a,\" and b is = \",b)\n",
    "\n",
    "a,b = b,a\n",
    "print (\"After swap without variable c, a is = \",a,\" and b is = \",b)"
   ]
  },
  {
   "cell_type": "markdown",
   "metadata": {},
   "source": [
    "## Question 5: Write a program to convert fahrenheit to kelvin and celsius both."
   ]
  },
  {
   "cell_type": "code",
   "execution_count": 8,
   "metadata": {},
   "outputs": [
    {
     "name": "stdout",
     "output_type": "stream",
     "text": [
      "100 fahrenheit is equal to  310.9277777777778  kelvin and  37.77777777777778  celsius\n"
     ]
    }
   ],
   "source": [
    "f = 100 # fahrenheit\n",
    "\n",
    "\n",
    "k = (f + 459.67) * (5/9)  # Fahrenheit to Kelvin\n",
    "\n",
    "\n",
    "c = (5/9) * (f-32)  # Fahrenheit to Celsius\n",
    "\n",
    "\n",
    "\n",
    "\n",
    "print (f,'fahrenheit is equal to ',k,' kelvin and ',c,' celsius')"
   ]
  },
  {
   "cell_type": "markdown",
   "metadata": {},
   "source": [
    "## Question 6: Write a program to demonstrate all the available data types in Python. Hint: Use type() function."
   ]
  },
  {
   "cell_type": "code",
   "execution_count": 9,
   "metadata": {},
   "outputs": [
    {
     "name": "stdout",
     "output_type": "stream",
     "text": [
      "The type of variable having value 2  is  <class 'int'>\n",
      "The type of variable having value 1.2  is  <class 'float'>\n",
      "The type of variable having value (2+3j)  is  <class 'complex'>\n",
      "The type of variable having value hola  is  <class 'str'>\n",
      "The type of variable having value ['hey', 'you', 1, 2, 3, 'go']  is  <class 'list'>\n",
      "The type of variable having value (1, 2, 3, 4)  is  <class 'tuple'>\n",
      "The type of variable having value {1: 'first name', 2: 'last name', 'age': 33}  is  <class 'dict'>\n"
     ]
    }
   ],
   "source": [
    "a=2\n",
    "print(\"The type of variable having value\", a, \" is \", type(a))\n",
    "\n",
    "b=1.2\n",
    "print(\"The type of variable having value\", b, \" is \", type(b))\n",
    "\n",
    "c=2+3j\n",
    "print(\"The type of variable having value\", c, \" is \", type(c))\n",
    "\n",
    "d='hola'\n",
    "print(\"The type of variable having value\", d, \" is \", type(d))\n",
    "\n",
    "e = [\"hey\",\"you\",1,2,3,\"go\"]\n",
    "print(\"The type of variable having value\", e, \" is \", type(e))\n",
    "\n",
    "g = (1,2,3,4)\n",
    "print(\"The type of variable having value\", g, \" is \", type(g))\n",
    "\n",
    "h = {1:\"first name\",2:\"last name\", \"age\":33}\n",
    "print(\"The type of variable having value\", h, \" is \", type(h))"
   ]
  },
  {
   "cell_type": "markdown",
   "metadata": {},
   "source": [
    "## Question 7: Create a Markdown cell in jupyter and list the steps discussed in the session by Dr. Darshan Ingle sir to create Github profile and upload Githubs Assignment link."
   ]
  },
  {
   "cell_type": "markdown",
   "metadata": {},
   "source": [
    "Steps\n",
    "\n",
    "1. Create a Github public repo and name it LetsUpgrade AI/ML\n",
    "2. Upload the files/solution in the repo in day wise manner.\n",
    "3. Copy the URL of the Folder of that day and paste in the Assignment Submission Form (Google Form)\n",
    "4. Make sure you are filling correct details in the Assignment Submission Form.\n",
    "5. All the drop-downs will be available till the week end only. i.e Previous weeks drop-down will disappear on each Sunday 11:59 PM\n",
    "6. You have to submit all the assignment given during the weekdays by respective SUNDAY 11:59 PM IST."
   ]
  },
  {
   "cell_type": "code",
   "execution_count": null,
   "metadata": {},
   "outputs": [],
   "source": []
  }
 ],
 "metadata": {
  "kernelspec": {
   "display_name": "Python 3",
   "language": "python",
   "name": "python3"
  },
  "language_info": {
   "codemirror_mode": {
    "name": "ipython",
    "version": 3
   },
   "file_extension": ".py",
   "mimetype": "text/x-python",
   "name": "python",
   "nbconvert_exporter": "python",
   "pygments_lexer": "ipython3",
   "version": "3.7.4"
  }
 },
 "nbformat": 4,
 "nbformat_minor": 2
}
