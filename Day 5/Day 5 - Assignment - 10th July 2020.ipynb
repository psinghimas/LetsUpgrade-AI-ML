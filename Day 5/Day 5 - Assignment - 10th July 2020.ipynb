{
 "cells": [
  {
   "cell_type": "markdown",
   "metadata": {},
   "source": [
    "Question 1 :\n",
    "Write a Python program to find the first 20 non-even prime natural numbers."
   ]
  },
  {
   "cell_type": "code",
   "execution_count": 1,
   "metadata": {},
   "outputs": [
    {
     "name": "stdout",
     "output_type": "stream",
     "text": [
      "3\n",
      "5\n",
      "7\n",
      "11\n",
      "13\n",
      "17\n",
      "19\n",
      "23\n",
      "29\n",
      "31\n",
      "37\n",
      "41\n",
      "43\n",
      "47\n",
      "53\n",
      "59\n",
      "61\n",
      "67\n",
      "71\n",
      "73\n"
     ]
    }
   ],
   "source": [
    "number = 100\n",
    "a = 1\n",
    "\n",
    "for num in range(2,number):\n",
    "  \n",
    "   if num > 1:\n",
    "       for i in range(2, num):\n",
    "           if (num % i) == 0:\n",
    "               break\n",
    "       else:\n",
    "        if (a<21) and (num%2)!=0:\n",
    "            print (num)\n",
    "            a=a+1"
   ]
  },
  {
   "cell_type": "markdown",
   "metadata": {},
   "source": [
    "Question 2 :\n",
    "Write a Python program to implement 15 functions of string."
   ]
  },
  {
   "cell_type": "code",
   "execution_count": 2,
   "metadata": {},
   "outputs": [
    {
     "name": "stdout",
     "output_type": "stream",
     "text": [
      "1.  Python - strings is awesome\n",
      "2. Lenth of string is  27\n",
      "3. Occurrences of word 'is' in string with count 1\n",
      "4. To determines if string str occurs in string 17\n",
      "5. To checks whether the string consists of alphanumeric characters =  False\n",
      "6. checks whether the string consists of alphabetic characters only =  False\n",
      "7. To Check if string contains only digits =  False\n",
      "8. To check  if string has at least 1 cased character and all cased characters are in lowercase =  True\n",
      "9. To check if a unicode string contains only numeric characters  =  False\n",
      "10. To check if string contains only whitespace characters  =  False\n",
      "11. To check if string has at least one cased character and all cased characters are in uppercase =  False\n",
      "12. To to convert all to upper case =  PYTHON - STRINGS IS AWESOME\n",
      "13. To to convert all to lower case =  python - strings is awesome\n",
      "14. To replace awesome with great  python - strings is great\n",
      "15. This method returns the min alphabetical character from the string  =   \n",
      "16. This method returns the max alphabetical character from the string  =  y\n"
     ]
    }
   ],
   "source": [
    "a = 'python - strings is awesome'\n",
    "\n",
    "\n",
    "print (\"1. \", a.capitalize())\n",
    "print (\"2. Lenth of string is \",len(a))\n",
    "print (\"3. Occurrences of word 'is' in string with count\", a.count('is'))\n",
    "print (\"4. To determines if string str occurs in string\", a.find('is'))\n",
    "print (\"5. To checks whether the string consists of alphanumeric characters = \", a.isalnum())\n",
    "print (\"6. checks whether the string consists of alphabetic characters only = \", a.isalpha())\n",
    "print (\"7. To Check if string contains only digits = \", a.isdigit())\n",
    "print (\"8. To check  if string has at least 1 cased character and all cased characters are in lowercase = \", a.islower())\n",
    "print (\"9. To check if a unicode string contains only numeric characters  = \", a.isnumeric())\n",
    "print (\"10. To check if string contains only whitespace characters  = \", a.isspace())\n",
    "print (\"11. To check if string has at least one cased character and all cased characters are in uppercase = \", a.isupper())\n",
    "print (\"12. To to convert all to upper case = \", a.upper())\n",
    "print (\"13. To to convert all to lower case = \", a.lower())\n",
    "print (\"14. To replace awesome with great \",a.replace('awesome','great'))\n",
    "print (\"15. This method returns the min alphabetical character from the string  = \",min(a))\n",
    "print (\"16. This method returns the max alphabetical character from the string  = \",max(a))\n"
   ]
  },
  {
   "cell_type": "markdown",
   "metadata": {},
   "source": [
    "Question 3:\n",
    "Write a Python program to check if the given string is a Palindrome or Anagram or None of them.\n",
    "Display the message accordingly to the user."
   ]
  },
  {
   "cell_type": "code",
   "execution_count": 12,
   "metadata": {},
   "outputs": [
    {
     "name": "stdout",
     "output_type": "stream",
     "text": [
      "Enter 1st string : ullu\n",
      "Enter 2nd string : lluu\n",
      "String ullu is Palindrome string\n",
      "String lluu is NOT Palindrome string\n",
      "String  ullu  and  lluu strings are anagrams.\n"
     ]
    }
   ],
   "source": [
    "def reverse(s): \n",
    "    s = s[::-1] \n",
    "    return s\n",
    "\n",
    "def checkpalindrome(r):\n",
    "    y = reverse(r)\n",
    "    if r==y :\n",
    "        print ('String',r,'is Palindrome string')\n",
    "    else:\n",
    "        print ('String',r,'is NOT Palindrome string')\n",
    "\n",
    "def checkanagram(i,j):\n",
    "    if(sorted(i)== sorted(j)): \n",
    "        print('String ',i,' and ',j,\"strings are anagrams.\")  \n",
    "    else: \n",
    "        print('String ',i,' and ',j,\"are NOT strings are anagrams.\")\n",
    "\n",
    "        \n",
    "x = input (\"Enter 1st string : \")\n",
    "z = input (\"Enter 2nd string : \")\n",
    "\n",
    "checkpalindrome(x)\n",
    "checkpalindrome(z)\n",
    "checkanagram(x,z)\n",
    "\n"
   ]
  },
  {
   "cell_type": "markdown",
   "metadata": {},
   "source": [
    "Question 4:\n",
    "Write a Python's user defined function that removes all the additional characters from the string\n",
    "and converts it finally to lower case using built-in lower(). eg: If the string is \"Dr. Darshan Ingle\n",
    "@AI-ML Trainer\", then the output be \"drdarshaningleaimltrainer\"."
   ]
  },
  {
   "cell_type": "code",
   "execution_count": 1,
   "metadata": {},
   "outputs": [
    {
     "name": "stdout",
     "output_type": "stream",
     "text": [
      "drdarshaningleaimltrainer\n"
     ]
    }
   ],
   "source": [
    "d = \"Dr. Darshan Ingle @AI-ML Trainer\"\n",
    "alpha = \"\"\n",
    "\n",
    "for i in d:\n",
    "    if i.isalnum():\n",
    "        alpha=alpha+i\n",
    "\n",
    "print(alpha.lower())"
   ]
  }
 ],
 "metadata": {
  "kernelspec": {
   "display_name": "Python 3",
   "language": "python",
   "name": "python3"
  },
  "language_info": {
   "codemirror_mode": {
    "name": "ipython",
    "version": 3
   },
   "file_extension": ".py",
   "mimetype": "text/x-python",
   "name": "python",
   "nbconvert_exporter": "python",
   "pygments_lexer": "ipython3",
   "version": "3.7.4"
  }
 },
 "nbformat": 4,
 "nbformat_minor": 2
}
