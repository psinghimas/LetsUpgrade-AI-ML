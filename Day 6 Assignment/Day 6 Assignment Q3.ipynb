{
 "cells": [
  {
   "cell_type": "markdown",
   "metadata": {},
   "source": [
    "Question 3:\n",
    "Create your own Jupyter Notebook for Sets.\n",
    "Reference link: https://www.w3schools.com/python/python_sets.asp"
   ]
  },
  {
   "cell_type": "code",
   "execution_count": 12,
   "metadata": {},
   "outputs": [
    {
     "name": "stdout",
     "output_type": "stream",
     "text": [
      "{'sig', 'usa', 'thai', 'ind', 'aus'}\n"
     ]
    }
   ],
   "source": [
    "testset= {\"aus\", \"ind\", \"sig\",\"usa\",\"thai\"}\n",
    "print(testset) "
   ]
  },
  {
   "cell_type": "code",
   "execution_count": 13,
   "metadata": {},
   "outputs": [
    {
     "name": "stdout",
     "output_type": "stream",
     "text": [
      "True\n"
     ]
    }
   ],
   "source": [
    "# Check if \"thai\" is present in the set:\n",
    "\n",
    "print(\"thai\" in testset) "
   ]
  },
  {
   "cell_type": "code",
   "execution_count": 14,
   "metadata": {},
   "outputs": [
    {
     "name": "stdout",
     "output_type": "stream",
     "text": [
      "{'sig', 'indo', 'usa', 'thai', 'ind', 'aus'}\n"
     ]
    }
   ],
   "source": [
    "# add() for single value\n",
    "\n",
    "testset.add(\"indo\")\n",
    "print(testset) "
   ]
  },
  {
   "cell_type": "code",
   "execution_count": 15,
   "metadata": {},
   "outputs": [
    {
     "name": "stdout",
     "output_type": "stream",
     "text": [
      "{'sig', 'indo', 'hk', 'usa', 'kl', 'thai', 'jp', 'ind', 'aus'}\n"
     ]
    }
   ],
   "source": [
    "# update() for multiple value\n",
    "\n",
    "testset.update([\"jp\",\"kl\",\"hk\"])\n",
    "print(testset) "
   ]
  },
  {
   "cell_type": "code",
   "execution_count": 16,
   "metadata": {},
   "outputs": [
    {
     "name": "stdout",
     "output_type": "stream",
     "text": [
      "9\n"
     ]
    }
   ],
   "source": [
    "# length\n",
    "\n",
    "print(len(testset))"
   ]
  },
  {
   "cell_type": "code",
   "execution_count": 18,
   "metadata": {},
   "outputs": [
    {
     "name": "stdout",
     "output_type": "stream",
     "text": [
      "{'sig', 'indo', 'hk', 'usa', 'thai', 'jp', 'ind', 'aus'}\n"
     ]
    }
   ],
   "source": [
    "# remove value\n",
    "\n",
    "testset.remove(\"kl\")\n",
    "print(testset) \n"
   ]
  },
  {
   "cell_type": "code",
   "execution_count": 19,
   "metadata": {},
   "outputs": [
    {
     "name": "stdout",
     "output_type": "stream",
     "text": [
      "{'indo', 'hk', 'usa', 'thai', 'jp', 'ind', 'aus'}\n"
     ]
    }
   ],
   "source": [
    "# Sets are unordered, so when using the pop() method, you will not know which item that gets removed.\n",
    "\n",
    "testset.pop()\n",
    "print(testset) "
   ]
  },
  {
   "cell_type": "code",
   "execution_count": 20,
   "metadata": {},
   "outputs": [
    {
     "name": "stdout",
     "output_type": "stream",
     "text": [
      "{1, 2, 3, 'c', 'b', 'a'}\n"
     ]
    }
   ],
   "source": [
    "# union() method returns a new set with all items from both sets:\n",
    "\n",
    "set1 = {\"a\", \"b\" , \"c\"}\n",
    "set2 = {1, 2, 3}\n",
    "\n",
    "set3 = set1.union(set2)\n",
    "print(set3) "
   ]
  },
  {
   "cell_type": "code",
   "execution_count": 22,
   "metadata": {},
   "outputs": [
    {
     "name": "stdout",
     "output_type": "stream",
     "text": [
      "{'micromax', 'lava'}\n"
     ]
    }
   ],
   "source": [
    "# Returns a set containing the difference between two or more sets\n",
    "\n",
    "set1 = {\"apple\", \"micromax\", \"lava\"}\n",
    "set2 = {\"google\", \"microsoft\", \"apple\"}\n",
    "\n",
    "set3 = set1.difference(set2)\n",
    "\n",
    "print(set3) "
   ]
  },
  {
   "cell_type": "code",
   "execution_count": 24,
   "metadata": {},
   "outputs": [
    {
     "name": "stdout",
     "output_type": "stream",
     "text": [
      "True\n"
     ]
    }
   ],
   "source": [
    "#issubset() method returns True if all items in the set exists in the specified set\n",
    "\n",
    "set1 = {\"apple\", \"micromax\", \"lava\",\"google\", \"microsoft\"}\n",
    "set2 = {\"google\", \"microsoft\", \"apple\"}\n",
    "\n",
    "set3 = set2.issubset(set1)\n",
    "\n",
    "print(set3) \n"
   ]
  },
  {
   "cell_type": "code",
   "execution_count": null,
   "metadata": {},
   "outputs": [],
   "source": []
  }
 ],
 "metadata": {
  "kernelspec": {
   "display_name": "Python 3",
   "language": "python",
   "name": "python3"
  },
  "language_info": {
   "codemirror_mode": {
    "name": "ipython",
    "version": 3
   },
   "file_extension": ".py",
   "mimetype": "text/x-python",
   "name": "python",
   "nbconvert_exporter": "python",
   "pygments_lexer": "ipython3",
   "version": "3.7.4"
  }
 },
 "nbformat": 4,
 "nbformat_minor": 2
}
