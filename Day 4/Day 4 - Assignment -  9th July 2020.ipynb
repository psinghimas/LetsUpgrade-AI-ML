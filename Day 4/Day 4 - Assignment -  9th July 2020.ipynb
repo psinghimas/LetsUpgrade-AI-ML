{
 "cells": [
  {
   "cell_type": "markdown",
   "metadata": {},
   "source": [
    "##Question 1 :\n",
    "Research on whether addition, subtraction, multiplication, division, floor division and modulo\n",
    "operations be performed on complex numbers. Based on your study, implement a Python\n",
    "program to demonstrate these operations."
   ]
  },
  {
   "cell_type": "code",
   "execution_count": 1,
   "metadata": {},
   "outputs": [
    {
     "name": "stdout",
     "output_type": "stream",
     "text": [
      "a1 is a  <class 'complex'>  and b1 is a  <class 'complex'>\n",
      "Real part of a1 =  1.0  and Real part of b1 =  2.0\n",
      "Imaginary part of a1 =  2.0  and Imaginary part of b1 =  4.0\n",
      "Conjugate  part of a1 =  (1-2j)  and Conjugate part of b1 =  (2-4j)\n"
     ]
    }
   ],
   "source": [
    "# complex number\n",
    "\n",
    "a1 = 1 + 2j\n",
    "\n",
    "b1 = 2 + 4j\n",
    "\n",
    "# Type\n",
    "\n",
    "print('a1 is a ',type(a1),' and b1 is a ',type(b1))\n",
    "\n",
    "#Real Part\n",
    "print('Real part of a1 = ', a1.real,' and Real part of b1 = ',b1.real)\n",
    "\n",
    "#Imaginary Part\n",
    "print('Imaginary part of a1 = ', a1.imag,' and Imaginary part of b1 = ',b1.imag)\n",
    "\n",
    "#Conjugate of complex number\n",
    "print('Conjugate  part of a1 = ', a1.conjugate(),' and Conjugate part of b1 = ',b1.conjugate())\n"
   ]
  },
  {
   "cell_type": "code",
   "execution_count": 2,
   "metadata": {},
   "outputs": [
    {
     "name": "stdout",
     "output_type": "stream",
     "text": [
      "Addition of two complex number = (3+6j)\n"
     ]
    }
   ],
   "source": [
    "#Addition\n",
    "print(\"Addition of two complex number =\", b1 + a1)"
   ]
  },
  {
   "cell_type": "code",
   "execution_count": 3,
   "metadata": {},
   "outputs": [
    {
     "name": "stdout",
     "output_type": "stream",
     "text": [
      "Subtraction of two complex number = (1+2j)\n"
     ]
    }
   ],
   "source": [
    "#Subtraction\n",
    "print(\"Subtraction of two complex number =\", b1 - a1)"
   ]
  },
  {
   "cell_type": "code",
   "execution_count": 4,
   "metadata": {},
   "outputs": [
    {
     "name": "stdout",
     "output_type": "stream",
     "text": [
      "Multiplication of two complex number = (-6+8j)\n"
     ]
    }
   ],
   "source": [
    "#Multiplication\n",
    "print(\"Multiplication of two complex number =\", b1 * a1)"
   ]
  },
  {
   "cell_type": "code",
   "execution_count": 5,
   "metadata": {},
   "outputs": [
    {
     "name": "stdout",
     "output_type": "stream",
     "text": [
      "Division of two complex number = (2+0j)\n"
     ]
    }
   ],
   "source": [
    "#Division\n",
    "print(\"Division of two complex number =\", b1 / a1)"
   ]
  },
  {
   "cell_type": "markdown",
   "metadata": {},
   "source": [
    "Note # Floor division and modulous is not complex numbers"
   ]
  },
  {
   "cell_type": "code",
   "execution_count": 8,
   "metadata": {},
   "outputs": [
    {
     "ename": "TypeError",
     "evalue": "can't take floor of complex number.",
     "output_type": "error",
     "traceback": [
      "\u001b[1;31m---------------------------------------------------------------------------\u001b[0m",
      "\u001b[1;31mTypeError\u001b[0m                                 Traceback (most recent call last)",
      "\u001b[1;32m<ipython-input-8-07f12b59be42>\u001b[0m in \u001b[0;36m<module>\u001b[1;34m\u001b[0m\n\u001b[0;32m      1\u001b[0m \u001b[1;31m#Floor division is not possible , it maybe possible by importing library\u001b[0m\u001b[1;33m\u001b[0m\u001b[1;33m\u001b[0m\u001b[1;33m\u001b[0m\u001b[0m\n\u001b[1;32m----> 2\u001b[1;33m \u001b[0mprint\u001b[0m\u001b[1;33m(\u001b[0m\u001b[1;34m\"Floor division of two complex number =\"\u001b[0m\u001b[1;33m,\u001b[0m \u001b[0mb1\u001b[0m \u001b[1;33m//\u001b[0m \u001b[0ma1\u001b[0m\u001b[1;33m)\u001b[0m\u001b[1;33m\u001b[0m\u001b[1;33m\u001b[0m\u001b[0m\n\u001b[0m",
      "\u001b[1;31mTypeError\u001b[0m: can't take floor of complex number."
     ]
    }
   ],
   "source": [
    "#Floor division is not possible , it maybe possible by importing library\n",
    "print(\"Floor division of two complex number =\", b1 // a1)"
   ]
  },
  {
   "cell_type": "code",
   "execution_count": 7,
   "metadata": {
    "scrolled": true
   },
   "outputs": [
    {
     "name": "stdout",
     "output_type": "stream",
     "text": [
      "Modulous of a1 = 2.23606797749979\n",
      "Modulous of b1 = 4.47213595499958\n"
     ]
    }
   ],
   "source": [
    "#Modulous with operator \"%\" is not possible but we can do with abs()\n",
    "#\n",
    "# 2nd option to try Pythagoras theorem\n",
    "#\n",
    "# mod = sqrt((a1.real)**2+(a1.imag)**2)\n",
    "#\n",
    "\n",
    "print(\"Modulous of a1 =\", abs(a1))\n",
    "print(\"Modulous of b1 =\", abs(b1))\n"
   ]
  },
  {
   "cell_type": "markdown",
   "metadata": {},
   "source": [
    "##Question 2 :\n",
    "Research on range() functions and its parameters. Create a markdown cell and write in your own\n",
    "words (no copy-paste from google please) what you understand about it. Implement a small\n",
    "program of your choice on the same."
   ]
  },
  {
   "cell_type": "markdown",
   "metadata": {},
   "source": [
    "range() function returns a sequence of numbers , it start from 0 to n (n here the number) & increment of 1\n",
    "\n",
    "syntax\n",
    "\n",
    "range(start, stop, step)........here start and step are optional"
   ]
  },
  {
   "cell_type": "code",
   "execution_count": 2,
   "metadata": {},
   "outputs": [
    {
     "name": "stdout",
     "output_type": "stream",
     "text": [
      "0\n",
      "1\n",
      "2\n",
      "3\n",
      "4\n",
      "5\n",
      "6\n",
      "7\n",
      "8\n",
      "9\n"
     ]
    }
   ],
   "source": [
    "\n",
    "x = range(10)\n",
    "\n",
    "for i in x:\n",
    "  print(i) "
   ]
  },
  {
   "cell_type": "code",
   "execution_count": 4,
   "metadata": {},
   "outputs": [
    {
     "name": "stdout",
     "output_type": "stream",
     "text": [
      "1\n",
      "3\n",
      "5\n",
      "7\n",
      "9\n"
     ]
    }
   ],
   "source": [
    "x = range(1,10,2)\n",
    "\n",
    "for i in x:\n",
    "  print(i) "
   ]
  },
  {
   "cell_type": "markdown",
   "metadata": {},
   "source": [
    "#Question 3:\n",
    "Consider two numbers. Perform their subtraction and if the result of subtraction is greater than\n",
    "25, print their multiplication result else print their division result."
   ]
  },
  {
   "cell_type": "code",
   "execution_count": 7,
   "metadata": {},
   "outputs": [
    {
     "name": "stdout",
     "output_type": "stream",
     "text": [
      "Enter First number : 50\n",
      "Enter Second number : 10\n",
      "40\n",
      "multiplication of a and b =  500\n"
     ]
    }
   ],
   "source": [
    "a=int(input('Enter First number : '))\n",
    "b=int(input('Enter Second number : '))\n",
    "c=a-b\n",
    "print(c)\n",
    "\n",
    "if c > 25:\n",
    "\tprint (\"multiplication of a and b = \",a*b)\n",
    "else:\n",
    "\tprint (\"divison of a and b = \", a/b)"
   ]
  },
  {
   "cell_type": "markdown",
   "metadata": {},
   "source": [
    "#Question 4:\n",
    "Consider a list of 10 elements of integer values. If the number in the list is divisible by 2, print the\n",
    "result as \"square of that number minus 2\"."
   ]
  },
  {
   "cell_type": "code",
   "execution_count": 8,
   "metadata": {},
   "outputs": [
    {
     "name": "stdout",
     "output_type": "stream",
     "text": [
      "Squar root of  2  minus 2 =  2\n",
      "Squar root of  4  minus 2 =  14\n",
      "Squar root of  6  minus 2 =  34\n",
      "Squar root of  8  minus 2 =  62\n",
      "Squar root of  10  minus 2 =  98\n"
     ]
    }
   ],
   "source": [
    "a=['1','2','3','4','5','6','7','8','9','10']\n",
    "\n",
    "for i in range (len(a)):\n",
    "    \n",
    "    if ((int(a[i])%2)==0):\n",
    "        print ('Squar root of ',a[i],' minus 2 = ',((int(a[i]))**2)-2)"
   ]
  },
  {
   "cell_type": "markdown",
   "metadata": {},
   "source": [
    "#Question 5:\n",
    "Consider a list of 10 elements. Print all the elements in the list which are greater than 7 when that\n",
    "number is divided 2."
   ]
  },
  {
   "cell_type": "code",
   "execution_count": 9,
   "metadata": {},
   "outputs": [
    {
     "name": "stdout",
     "output_type": "stream",
     "text": [
      "Value if  15  is greater than 7 after division with 2\n",
      "Value if  16  is greater than 7 after division with 2\n",
      "Value if  17  is greater than 7 after division with 2\n",
      "Value if  18  is greater than 7 after division with 2\n",
      "Value if  19  is greater than 7 after division with 2\n",
      "Value if  20  is greater than 7 after division with 2\n"
     ]
    }
   ],
   "source": [
    "a=['11','12','13','14','15','16','17','18','19','20']\n",
    "\n",
    "for i in range (len(a)):\n",
    "    \n",
    "    if ((int(a[i])/2)>7):\n",
    "        print ('Value if ',a[i],' is greater than 7 after division with 2')"
   ]
  }
 ],
 "metadata": {
  "kernelspec": {
   "display_name": "Python 3",
   "language": "python",
   "name": "python3"
  },
  "language_info": {
   "codemirror_mode": {
    "name": "ipython",
    "version": 3
   },
   "file_extension": ".py",
   "mimetype": "text/x-python",
   "name": "python",
   "nbconvert_exporter": "python",
   "pygments_lexer": "ipython3",
   "version": "3.7.4"
  }
 },
 "nbformat": 4,
 "nbformat_minor": 2
}
